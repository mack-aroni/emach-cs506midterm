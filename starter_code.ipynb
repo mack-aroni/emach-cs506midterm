{
 "cells": [
  {
   "cell_type": "markdown",
   "metadata": {},
   "source": [
    "# Libraries"
   ]
  },
  {
   "cell_type": "code",
   "execution_count": 45,
   "metadata": {},
   "outputs": [],
   "source": [
    "import pickle\n",
    "import pandas as pd\n",
    "import seaborn as sns\n",
    "\n",
    "from textblob import TextBlob\n",
    "\n",
    "import nltk\n",
    "from nltk.corpus import opinion_lexicon\n",
    "\n",
    "#from sklearn.neighbors import KNeighborsClassifier\n",
    "# from sklearn.ensemble import RandomForestClassifier\n",
    "# from sklearn.linear_model import LogisticRegression\n",
    "# from sklearn.naive_bayes import MultinomialNB\n",
    "from sklearn.ensemble import GradientBoostingClassifier\n",
    "\n",
    "from sklearn.preprocessing import StandardScaler\n",
    "\n",
    "from os.path import exists\n",
    "import matplotlib.pyplot as plt\n",
    "from sklearn.model_selection import train_test_split\n",
    "from sklearn.metrics import accuracy_score, confusion_matrix\n"
   ]
  },
  {
   "cell_type": "markdown",
   "metadata": {},
   "source": [
    "# Loading the Files\n",
    "\n",
    "Download the csv files into the `data/` directory."
   ]
  },
  {
   "cell_type": "code",
   "execution_count": 46,
   "metadata": {},
   "outputs": [],
   "source": [
    "trainingSet = pd.read_csv(\"./data/train.csv\")\n",
    "testingSet = pd.read_csv(\"./data/test.csv\")\n",
    "\n",
    "# print(\"train.csv shape is \", trainingSet.shape)\n",
    "# print(\"test.csv shape is \", testingSet.shape)\n",
    "# print()\n",
    "# print(trainingSet.head())\n",
    "# print()\n",
    "# print(testingSet.head())\n",
    "# print()\n",
    "# print(trainingSet.describe())\n",
    "# trainingSet['Score'].value_counts().plot(kind='bar', legend=True, alpha=.5)\n",
    "# plt.show()\n",
    "# print()\n",
    "# print(\"EVERYTHING IS PROPERLY SET UP! YOU ARE READY TO START\")"
   ]
  },
  {
   "cell_type": "markdown",
   "metadata": {},
   "source": [
    "# Adding Features"
   ]
  },
  {
   "cell_type": "code",
   "execution_count": 47,
   "metadata": {},
   "outputs": [
    {
     "name": "stderr",
     "output_type": "stream",
     "text": [
      "[nltk_data] Downloading package opinion_lexicon to\n",
      "[nltk_data]     C:\\Users\\etanm\\AppData\\Roaming\\nltk_data...\n",
      "[nltk_data]   Unzipping corpora\\opinion_lexicon.zip.\n"
     ]
    }
   ],
   "source": [
    "nltk.download('opinion_lexicon')\n",
    "positive_words = set(opinion_lexicon.positive())\n",
    "negative_words = set(opinion_lexicon.negative())\n",
    "\n",
    "def getSubjectivity(text):\n",
    "   return TextBlob(text).sentiment.subjectivity\n",
    "  \n",
    "def getPolarity(text):\n",
    "   return TextBlob(text).sentiment.polarity\n",
    "\n",
    "def add_features_to(df):\n",
    "\n",
    "    df['Helpfulness'] = df['HelpfulnessNumerator'] / df['HelpfulnessDenominator']\n",
    "    df['Helpfulness'] = df['Helpfulness'].fillna(0)\n",
    "\n",
    "    df['SummaryLength'] = df['Summary'].fillna(\"\").str.len()\n",
    "    df['TextLength'] = df['Text'].fillna(\"\").str.len()\n",
    "\n",
    "    df['TextSubjectivity'] = df['Text'].fillna(\"\").apply(getSubjectivity)\n",
    "    df['TextPolarity'] = df['Text'].fillna(\"\").apply(getPolarity)\n",
    "\n",
    "    df['ExclamationCount'] = df['Text'].fillna(\"\").apply(lambda x: x.count(\"!\"))\n",
    "    df['PositiveWordCount'] = df['Text'].fillna(\"\").apply(lambda x: sum(1 for word in x.split() if word.lower() in positive_words))\n",
    "    df['NegativeWordCount'] = df['Text'].fillna(\"\").apply(lambda x: sum(1 for word in x.split() if word.lower() in negative_words))\n",
    "    df['PosNegRatio'] = df['PositiveWordCount'] / (df['NegativeWordCount'] + 1)\n",
    "\n",
    "    df['UserAvgRating'] = df.groupby('UserId')['Score'].transform('mean')\n",
    "    df['ProductAvgRating'] = df.groupby('ProductId')['Score'].transform('mean')\n",
    "    df['UserReviewCount'] = df.groupby('UserId')['Score'].transform('count')\n",
    "    df['ProductReviewCount'] = df.groupby('ProductId')['Score'].transform('count')\n",
    "\n",
    "    avg_rating = df['Score'].mean()\n",
    "    df['UserDeviation'] = df['UserAvgRating'] - avg_rating\n",
    "    df['ProductDeviation'] = df['ProductAvgRating'] - avg_rating\n",
    "\n",
    "    return df\n",
    "\n",
    "# Load the feature extracted files if they've already been generated\n",
    "if exists('./data/X_train.csv'):\n",
    "    X_train = pd.read_csv(\"./data/X_train.csv\")\n",
    "if exists('./data/X_submission.csv'):\n",
    "    X_submission = pd.read_csv(\"./data/X_submission.csv\")\n",
    "\n",
    "else:\n",
    "    # Process the DataFrame\n",
    "    train = add_features_to(trainingSet)\n",
    "\n",
    "    # Merge on Id so that the submission set can have feature columns as well\n",
    "    X_submission = pd.merge(train, testingSet, left_on='Id', right_on='Id')\n",
    "    X_submission = X_submission.drop(columns=['Score_x'])\n",
    "    X_submission = X_submission.rename(columns={'Score_y': 'Score'})\n",
    "\n",
    "    # The training set is where the score is not null\n",
    "    X_train =  train[train['Score'].notnull()]\n",
    "\n",
    "    X_submission.to_csv(\"./data/X_submission.csv\", index=False)\n",
    "    X_train.to_csv(\"./data/X_train.csv\", index=False)"
   ]
  },
  {
   "cell_type": "markdown",
   "metadata": {},
   "source": [
    "# Sample + Split into training and testing set"
   ]
  },
  {
   "cell_type": "code",
   "execution_count": 48,
   "metadata": {},
   "outputs": [],
   "source": [
    "# Split training set into training and testing set\n",
    "X_train, X_test, Y_train, Y_test = train_test_split(\n",
    "    X_train.drop(columns=['Score']),\n",
    "    X_train['Score'],\n",
    "    test_size=1/4.0,\n",
    "    random_state=0\n",
    ")"
   ]
  },
  {
   "cell_type": "markdown",
   "metadata": {},
   "source": [
    "# Feature Selection"
   ]
  },
  {
   "cell_type": "code",
   "execution_count": 50,
   "metadata": {},
   "outputs": [
    {
     "name": "stdout",
     "output_type": "stream",
     "text": [
      "         HelpfulnessNumerator  HelpfulnessDenominator  Helpfulness  \\\n",
      "131283                     13                      13         1.00   \n",
      "1202017                     1                       1         1.00   \n",
      "511808                      6                      10         0.60   \n",
      "955172                      3                       4         0.75   \n",
      "735507                      0                       0         0.00   \n",
      "\n",
      "         SummaryLength  TextLength  TextSubjectivity  TextPolarity  \\\n",
      "131283              53        3707          0.534209      0.098611   \n",
      "1202017             16         720          0.585465      0.193842   \n",
      "511808               8         295          0.588889     -0.091667   \n",
      "955172              36        2255          0.345455      0.058081   \n",
      "735507              18         363          0.511111      0.422222   \n",
      "\n",
      "         ExclamationCount  PositiveWordCount  NegativeWordCount  PosNegRatio  \\\n",
      "131283                  0                 26                 31     0.812500   \n",
      "1202017                 0                  7                  5     1.166667   \n",
      "511808                  0                  1                  3     0.250000   \n",
      "955172                  0                  9                  8     1.000000   \n",
      "735507                  0                  3                  0     3.000000   \n",
      "\n",
      "         UserAvgRating  ProductAvgRating  UserReviewCount  ProductReviewCount  \\\n",
      "131283        4.785714          4.571429               14                  14   \n",
      "1202017       3.833333          3.444444                6                   9   \n",
      "511808        3.641509          3.488584              159                 219   \n",
      "955172        4.000000          3.164179                7                 134   \n",
      "735507        5.000000          4.900000                7                  10   \n",
      "\n",
      "         UserDeviation  ProductDeviation  \n",
      "131283        0.675198          0.460912  \n",
      "1202017      -0.277183         -0.666072  \n",
      "511808       -0.469007         -0.621932  \n",
      "955172       -0.110517         -0.946338  \n",
      "735507        0.889483          0.789483  \n",
      "[[ 0.51795312  0.36346332  1.43200541  1.44544885  2.32966771 -0.02508633\n",
      "  -0.59353508 -0.32275141  2.66680502  4.37992226 -0.60748096  1.02009546\n",
      "   0.83518484 -0.3556668  -0.6429681   1.02009546  0.83518484]\n",
      " [-0.14207381 -0.20430732  1.43200541 -0.65782567 -0.16906386  0.34539135\n",
      "  -0.1404399  -0.32275141  0.07646558  0.16435613 -0.39423021 -0.41858951\n",
      "  -1.20913476 -0.38437331 -0.66367496 -0.41858951 -1.20913476]\n",
      " [ 0.13293741  0.22152066  0.47802361 -1.11258773 -0.52459145  0.3701361\n",
      "  -1.49885008 -0.32275141 -0.74153635 -0.15991819 -0.94617333 -0.70836237\n",
      "  -1.12906591  0.16463865  0.20601306 -0.70836237 -1.12906591]\n",
      " [-0.03206932 -0.06236466  0.83576679  0.47907947  1.11501815 -1.38937505\n",
      "  -0.78637259 -0.32275141  0.34913289  0.6507676  -0.4945835  -0.16681964\n",
      "  -1.71752873 -0.38078499 -0.14600352 -0.16681964 -1.71752873]\n",
      " [-0.19707606 -0.25162154 -0.95294907 -0.54413516 -0.46770704 -0.19203136\n",
      "   0.94616123 -0.32275141 -0.46886904 -0.64632967  0.70965603  1.34379957\n",
      "   1.43120478 -0.38078499 -0.65953359  1.34379957  1.43120478]]\n"
     ]
    }
   ],
   "source": [
    "features = ['HelpfulnessNumerator',\n",
    "            'HelpfulnessDenominator',\n",
    "            'Helpfulness',\n",
    "            'SummaryLength',\n",
    "            'TextLength',\n",
    "            'TextSubjectivity',\n",
    "            'TextPolarity',\n",
    "            'ExclamationCount',\n",
    "            'PositiveWordCount',\n",
    "            'NegativeWordCount',\n",
    "            'PosNegRatio',\n",
    "            'UserAvgRating',\n",
    "            'ProductAvgRating',\n",
    "            'UserReviewCount',\n",
    "            'ProductReviewCount',\n",
    "            'UserDeviation',\n",
    "            'ProductDeviation'\n",
    "            ]\n",
    "\n",
    "X_train_select = X_train[features]\n",
    "X_test_select = X_test[features]\n",
    "X_submission_select = X_submission[features]\n",
    "\n",
    "print(X_train_select[:5])\n",
    "\n",
    "scaler = StandardScaler()\n",
    "X_train_select = scaler.fit_transform(X_train[features])\n",
    "X_test_select = scaler.transform(X_test[features])\n",
    "X_submission_select = scaler.transform(X_submission[features])\n",
    "\n",
    "#print(X_train_select[:5])"
   ]
  },
  {
   "cell_type": "markdown",
   "metadata": {},
   "source": [
    "# Model Creation"
   ]
  },
  {
   "cell_type": "code",
   "execution_count": 52,
   "metadata": {},
   "outputs": [],
   "source": [
    "# Learn the model\n",
    "#model = KNeighborsClassifier(n_neighbors=9).fit(X_train_select, Y_train)\n",
    "#model = RandomForestClassifier().fit(X_train_select, Y_train)\n",
    "#model = RandomForestClassifier(max_depth=10, max_features='sqrt', n_estimators=200).fit(X_train_select, Y_train)\n",
    "#model = MultinomialNB().fit(X_train_select, Y_train)\n",
    "#model = LogisticRegression().fit(X_train_select, Y_train)\n",
    "#model = GradientBoostingClassifier(n_estimators=200).fit(X_train_select, Y_train)\n",
    "model = GradientBoostingClassifier().fit(X_train_select, Y_train)\n",
    "\n",
    "# Predict on the test set\n",
    "Y_test_predictions = model.predict(X_test_select)\n"
   ]
  },
  {
   "cell_type": "markdown",
   "metadata": {},
   "source": [
    "# Model Evaluation"
   ]
  },
  {
   "cell_type": "code",
   "execution_count": 56,
   "metadata": {},
   "outputs": [
    {
     "name": "stdout",
     "output_type": "stream",
     "text": [
      "Accuracy on testing set =  0.6257055604627615\n"
     ]
    },
    {
     "data": {
      "image/png": "[encoded data removed]",
      "text/plain": [
       "<Figure size 640x480 with 2 Axes>"
      ]
     },
     "metadata": {},
     "output_type": "display_data"
    }
   ],
   "source": [
    "# Evaluate your model on the testing set\n",
    "print(\"Accuracy on testing set = \", accuracy_score(Y_test, Y_test_predictions))\n",
    "\n",
    "# Plot a confusion matrix\n",
    "cm = confusion_matrix(Y_test, Y_test_predictions, normalize='true')\n",
    "sns.heatmap(cm, annot=True)\n",
    "plt.title('Confusion matrix of the classifier')\n",
    "plt.xlabel('Predicted')\n",
    "plt.ylabel('True')\n",
    "plt.show()"
   ]
  },
  {
   "cell_type": "markdown",
   "metadata": {},
   "source": [
    "# Create submission file"
   ]
  },
  {
   "cell_type": "code",
   "execution_count": 68,
   "metadata": {},
   "outputs": [],
   "source": [
    "import numpy as np\n",
    "X_submission_select = np.nan_to_num(X_submission_select, nan=np.nanmean(X_submission_select, axis=0))\n",
    "\n",
    "# Create the submission file\n",
    "X_submission['Score'] = model.predict(X_submission_select)\n",
    "submission = X_submission[['Id', 'Score']]\n",
    "submission.to_csv(\"./data/submission.csv\", index=False)"
   ]
  }
 ],
 "metadata": {
  "kernelspec": {
   "display_name": "Python 3",
   "language": "python",
   "name": "python3"
  },
  "language_info": {
   "codemirror_mode": {
    "name": "ipython",
    "version": 3
   },
   "file_extension": ".py",
   "mimetype": "text/x-python",
   "name": "python",
   "nbconvert_exporter": "python",
   "pygments_lexer": "ipython3",
   "version": "3.11.9"
  }
 },
 "nbformat": 4,
 "nbformat_minor": 2
}
